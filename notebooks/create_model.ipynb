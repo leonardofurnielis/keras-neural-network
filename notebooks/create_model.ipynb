{
 "cells": [
  {
   "cell_type": "markdown",
   "metadata": {},
   "source": "# Credit Risk prediction with Scikit-learn Logistic Regression"
  },
  {
   "cell_type": "markdown",
   "metadata": {},
   "source": [
    "This notebook uses dataset Credit Risk dataset (https://raw.githubusercontent.com/leonardofurnielis/sample-model-container/master/data/credit_risk_training.csv)\n",
    "\n",
    "The notebook will train, create, and deploy a Credit Risk model."
   ]
  },
  {
   "cell_type": "markdown",
   "metadata": {},
   "source": [
    "### Contents"
   ]
  },
  {
   "cell_type": "markdown",
   "metadata": {},
   "source": [
    "1. [Explore and prepare training data](#explore_prepare_data)\n",
    "1. [Create train and test dataset](#train_test_set)\n",
    "1. [Train the model](#train_model)\n",
    "1. [Save the model](#save_model)"
   ]
  },
  {
   "cell_type": "code",
   "metadata": {},
   "source": [
    "import pandas as pd\n",
    "import numpy as np\n",
    "import matplotlib as mlp\n",
    "import matplotlib.pyplot as plt\n",
    "import seaborn as sns\n",
    "import json"
   ],
   "outputs": [],
   "execution_count": null
  },
  {
   "cell_type": "markdown",
   "metadata": {},
   "source": [
    "<a id=\"explore_prepare_data\"></a>\n",
    "## 1. Explore and prepare training data"
   ]
  },
  {
   "cell_type": "markdown",
   "metadata": {},
   "source": [
    "### 1.1 Importing training data"
   ]
  },
  {
   "cell_type": "markdown",
   "metadata": {},
   "source": [
    "NOTE: read from `/data` directory if running locally"
   ]
  },
  {
   "cell_type": "code",
   "metadata": {},
   "source": [
    "df_training = pd.read_csv('../data/credit_risk_training.csv')\n",
    "df_training.head()"
   ],
   "outputs": [],
   "execution_count": null
  },
  {
   "cell_type": "markdown",
   "metadata": {},
   "source": [
    "### 1.2. Exploring and preparing data"
   ]
  },
  {
   "cell_type": "code",
   "metadata": {},
   "source": [
    "df_training.describe()"
   ],
   "outputs": [],
   "execution_count": null
  },
  {
   "cell_type": "code",
   "metadata": {},
   "source": [
    "ax = sns.countplot(x=\"Risk\", data=df_training, hue=\"Risk\")\n",
    "plt.title(\"Credit Risk label distribution\")\n",
    "plt.xlabel(\"Label\")\n",
    "plt.ylabel(\"count()\")"
   ],
   "outputs": [],
   "execution_count": null
  },
  {
   "cell_type": "markdown",
   "metadata": {},
   "source": [
    "<a id=\"train_test_set\"></a>\n",
    "## 2. Create train and test dataset"
   ]
  },
  {
   "cell_type": "markdown",
   "metadata": {},
   "source": [
    "NOTE: Training dataset"
   ]
  },
  {
   "cell_type": "code",
   "metadata": {},
   "source": [
    "Y_training = df_training['Risk']\n",
    "df_training = df_training.drop(['Risk'], axis=1)\n",
    "df_training.head()"
   ],
   "outputs": [],
   "execution_count": null
  },
  {
   "cell_type": "markdown",
   "metadata": {},
   "source": [
    "NOTE: Test dataset"
   ]
  },
  {
   "cell_type": "code",
   "metadata": {},
   "source": [
    "df_test = pd.read_csv('../data/credit_risk_test.csv')\n",
    "df_test.head()\n",
    "\n",
    "Y_test = df_test['Risk']\n",
    "df_test = df_test.drop(['Risk'], axis=1)\n",
    "\n",
    "df_test.head()"
   ],
   "outputs": [],
   "execution_count": null
  },
  {
   "cell_type": "markdown",
   "metadata": {},
   "source": [
    "<a id=\"train_model\"></a>\n",
    "## 3. Train the model\n",
    "\n",
    "Create a Scikit-learn Pipeline containing: \n",
    "\n",
    "1. normalization\n",
    "1. logistic regression model training"
   ]
  },
  {
   "cell_type": "code",
   "metadata": {},
   "source": [
    "from sklearn.pipeline import Pipeline\n",
    "from sklearn.preprocessing import OneHotEncoder\n",
    "from sklearn.linear_model import LogisticRegression\n",
    "from sklearn import metrics"
   ],
   "outputs": [],
   "execution_count": null
  },
  {
   "cell_type": "code",
   "metadata": {},
   "source": [
    "pipeline = Pipeline([('hotencoder', OneHotEncoder(handle_unknown='ignore', sparse=False)), ('lr', LogisticRegression())])"
   ],
   "outputs": [],
   "execution_count": null
  },
  {
   "cell_type": "code",
   "metadata": {},
   "source": "clf = pipeline.fit(df_training.values, Y_training)",
   "outputs": [],
   "execution_count": null
  },
  {
   "cell_type": "markdown",
   "metadata": {},
   "source": [
    "### 3.1 Model evaluation"
   ]
  },
  {
   "cell_type": "code",
   "metadata": {},
   "source": "predicted_values = clf.predict(df_test.values)",
   "outputs": [],
   "execution_count": null
  },
  {
   "cell_type": "code",
   "metadata": {},
   "source": "print(metrics.accuracy_score(Y_test, predicted_values))",
   "outputs": [],
   "execution_count": null
  },
  {
   "cell_type": "code",
   "metadata": {},
   "source": "print(metrics.classification_report(Y_test, predicted_values))",
   "outputs": [],
   "execution_count": null
  },
  {
   "cell_type": "code",
   "metadata": {},
   "source": [
    "confusion_matrix = metrics.confusion_matrix(Y_test, predicted_values)\n",
    "sns.heatmap(confusion_matrix, annot=True,  fmt='')\n",
    "plt.title('Confusion matrix Logistic Regression')"
   ],
   "outputs": [],
   "execution_count": null
  },
  {
   "cell_type": "code",
   "metadata": {},
   "source": [
    "Y_test[1]"
   ],
   "outputs": [],
   "execution_count": null
  },
  {
   "cell_type": "code",
   "metadata": {},
   "source": [
    "X_test = df_test.values.tolist()\n",
    "print(X_test[1])"
   ],
   "outputs": [],
   "execution_count": null
  },
  {
   "cell_type": "markdown",
   "metadata": {},
   "source": [
    "<a id=\"save_model\"></a>\n",
    "## 4. Save the model"
   ]
  },
  {
   "metadata": {},
   "cell_type": "code",
   "source": [
    "import pickle\n",
    "pickle.dump(clf, open('../models/credit_risk_model.pickle', 'wb'))"
   ],
   "outputs": [],
   "execution_count": null
  },
  {
   "cell_type": "code",
   "metadata": {},
   "source": [],
   "outputs": [],
   "execution_count": null
  }
 ],
 "metadata": {
  "kernelspec": {
   "display_name": "Python 3 (ipykernel)",
   "language": "python",
   "name": "python3"
  },
  "language_info": {
   "codemirror_mode": {
    "name": "ipython",
    "version": 3
   },
   "file_extension": ".py",
   "mimetype": "text/x-python",
   "name": "python",
   "nbconvert_exporter": "python",
   "pygments_lexer": "ipython3",
   "version": "3.10.11"
  }
 },
 "nbformat": 4,
 "nbformat_minor": 4
}
